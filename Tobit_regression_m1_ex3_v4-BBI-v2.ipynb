{
 "cells": [
  {
   "cell_type": "markdown",
   "metadata": {},
   "source": [
    "## Tobit regression with TensorFlow\n",
    "\n",
    "Tobit regression fits the following model for non-negative data $ y $: \n",
    "\n",
    "$  y({\\bf X}) = \\max (0, w_0 + \\sum_{i=1}^{N} w_i X_i + w_{N+1} \\cdot \\varepsilon) $  \n",
    "\n",
    "Here $ X_i $ are predictors, $ \\varepsilon \\sim N(0,1) $ is a standard Gaussian noise, and $ w_{N+1} $ is the noise\n",
    "volatility (standard deviation).\n",
    "\n",
    "Our problem is to fit parameters $ N+2 $ parameters $ w_{i} $ for $ i = 0, \\ldots, N+1 $ to the observed set of pairs $ \\left({\\bf X}_i, y_i \\right) $  \n",
    "\n",
    "We use synthetic data with known parameters to learn how to implement Tobit Regression in TensorFlow. "
   ]
  },
  {
   "cell_type": "markdown",
   "metadata": {},
   "source": [
    "## About iPython Notebooks ##\n",
    "\n",
    "iPython Notebooks are interactive coding environments embedded in a webpage. You will be using iPython notebooks in this class. You only need to write code between the ### START CODE HERE ### and ### END CODE HERE ### comments. After writing your code, you can run the cell by either pressing \"SHIFT\"+\"ENTER\" or by clicking on \"Run Cell\" (denoted by a play symbol) in the upper bar of the notebook. \n",
    "\n",
    "We will often specify \"(≈ X lines of code)\" in the comments to tell you about how much code you need to write. It is just a rough estimate, so don't feel bad if your code is longer or shorter."
   ]
  },
  {
   "cell_type": "code",
   "execution_count": 1,
   "metadata": {
    "collapsed": true
   },
   "outputs": [],
   "source": [
    "import numpy as np\n",
    "import tensorflow as tf\n",
    "\n",
    "import sys\n",
    "sys.path.append(\"..\")\n",
    "import grading\n",
    "\n",
    "try:\n",
    "    import matplotlib.pyplot as plt\n",
    "    %matplotlib inline\n",
    "except:\n",
    "    pass\n",
    "\n",
    "try:\n",
    "    from mpl_toolkits.mplot3d import Axes3D\n",
    "except:\n",
    "    pass"
   ]
  },
  {
   "cell_type": "code",
   "execution_count": 2,
   "metadata": {
    "collapsed": true
   },
   "outputs": [],
   "source": [
    "### ONLY FOR GRADING. DO NOT EDIT ###\n",
    "submissions=dict()\n",
    "assignment_key=\"w3Hc-vZdEeehlBIKDnZryg\" \n",
    "all_parts=[\"pLnY5\", \"RKR6p\", \"IU1pw\", \"ISVtY\", \"Cutr3\"]\n",
    "### ONLY FOR GRADING. DO NOT EDIT ###"
   ]
  },
  {
   "cell_type": "code",
   "execution_count": 33,
   "metadata": {
    "collapsed": true
   },
   "outputs": [],
   "source": [
    "COURSERA_TOKEN = 'rT5PEcWZ0HhVImGS'# the key provided to the Student under his/her email on submission page\n",
    "COURSERA_EMAIL = 'bbalaji8@gmail.com'# the email"
   ]
  },
  {
   "cell_type": "code",
   "execution_count": 4,
   "metadata": {
    "collapsed": true
   },
   "outputs": [],
   "source": [
    "# utility function  to reset the TF graph to the same state each time\n",
    "def reset_graph(seed=42):\n",
    "    # to make results reproducible across runs\n",
    "    tf.reset_default_graph()\n",
    "    tf.set_random_seed(seed)\n",
    "    np.random.seed(seed)\n",
    "    "
   ]
  },
  {
   "cell_type": "markdown",
   "metadata": {},
   "source": [
    "## Tobit Regression class\n",
    "\n",
    "**Instructions**:\n",
    "Complete the code for the calculation of loss function (the negative log-likelihood)."
   ]
  },
  {
   "cell_type": "code",
   "execution_count": 7,
   "metadata": {
    "collapsed": true
   },
   "outputs": [],
   "source": [
    "class Tobit_Regression:\n",
    "    \n",
    "    def __init__(self, n_features, learning_rate=0.005, L=0):\n",
    "        \n",
    "        self.input = tf.placeholder(tf.float32, [None, n_features], name=\"Input\")\n",
    "        self.target = tf.placeholder(tf.float32, [None, 1], name=\"Target\")\n",
    "        \n",
    "        # the first weight is for the intercept, the last one is for a square root of the noise std \n",
    "        self.weights = tf.Variable(tf.random_normal([n_features + 2, 1]))\n",
    "        \n",
    "        # Augmented data matrix is obtained by adding a column of ones to the data matrix\n",
    "        self.data_plus_bias = tf.concat([tf.ones([tf.shape(self.input)[0], 1]), self.input], axis=1)\n",
    "\n",
    "        #######################################################################\n",
    "        # MLE for Tobit regression \n",
    "        \n",
    "        # noise volatility is obtained as a square of the last weight to ensure positivity \n",
    "        self.sigma = 0.0001 + tf.square(self.weights[-1])\n",
    "        \n",
    "        # term1 and term2 are just placeholders initialized such that the code runs\n",
    "        # students need to initialize them appropriately to solve this assignment\n",
    "#         self.term1 = tf.Variable(np.zeros(shape=(n_features + 2, 1)))\n",
    "#         self.term2 = tf.Variable(np.zeros(shape=(n_features + 2, 1)))\n",
    "        # THIS IS THE PART THAT STUDENTS ARE SUPPOSED TO WRITE THEMSELVES TO COMPLETE THE IMPLEMENTATION \n",
    "        # OF THE TOBIT REGRESSION MODEL\n",
    "        \n",
    "        # FOR THE ASSIGNMENT: complete the code for the calculation of loss function \n",
    "        # (the negative log-likelihood)\n",
    "        ### START CODE HERE ### (≈ 6-7 lines of code)\n",
    "        gauss = tf.distributions.Normal(loc = 0.0, scale = 1.0)\n",
    "#         print(\"Tobit_Regression.__init__:\")\n",
    "#         print(\"  distribution:\"); print(distribution)\n",
    "#         outtmp = tf.nn.relu(tf.matmul(self.data_plus_bias[:, :], self.weights[:-1]) + \n",
    "#                             self.weights[-1] * distribution.sample(tf.shape(self.input)[0]))\n",
    "#         outtmp = tf.nn.relu(tf.matmul(self.data_plus_bias[:, :], self.weights[:-1]))\n",
    "        y_tmp = tf.matmul(self.data_plus_bias[:, :], self.weights[:-1]) \n",
    "        y_I = tf.sign(tf.nn.relu(self.target - L))\n",
    "        term_gtL = y_I * tf.log(((1.0 / self.sigma) * \n",
    "                                gauss.prob((self.target - y_tmp) / self.sigma)) + \n",
    "                               .00001)\n",
    "        term_leL = (1.0 - y_I) * tf.log((1.0 - gauss.cdf((y_tmp - L) / self.sigma)) + \n",
    "                                        .00001)\n",
    "        \n",
    "        ### END CODE HERE ###\n",
    "        self.loss = - tf.reduce_mean(term_gtL + term_leL)\n",
    "        \n",
    "        #####################################################################\n",
    "\n",
    "        # Use Adam optimization for training\n",
    "        self.train_step = (tf.train.AdamOptimizer(learning_rate).minimize(self.loss), -self.loss)\n",
    "        \n",
    "        # prediction made from the model: Use a ReLU neuron!\n",
    "        self.output = tf.nn.relu(tf.matmul(self.data_plus_bias[:, :], self.weights[:-1]))\n",
    "        \n",
    "        # Check the output L1-norm error  \n",
    "        self.output_L1_error = tf.reduce_mean(tf.abs(self.target - self.output))\n",
    "\n",
    "    def generate_data(n_points,\n",
    "                      n_features,\n",
    "                      weights,\n",
    "                      noise_std):\n",
    "\n",
    "        # Bounds of [-1,1] in space of n_points x n_features\n",
    "        np.random.seed(42)\n",
    "        bias = np.ones(n_points).reshape((-1,1))\n",
    "        low = - np.ones((n_points,n_features),'float')\n",
    "        high = np.ones((n_points,n_features),'float')\n",
    "\n",
    "        # simulated features are uniformally distributed on [-1,1].\n",
    "        # The size n_points x n_features of array X is inferred by broadcasting of 'low' and 'high'\n",
    "        X = np.random.uniform(low=low, high=high)\n",
    "        \n",
    "        # simulated noise\n",
    "        noise = np.random.normal(size=(n_points, 1))\n",
    "        \n",
    "        # outputs    \n",
    "        Y = weights[0] * bias + np.dot(X, weights[1:]).reshape((-1,1)) + noise_std * noise\n",
    "\n",
    "        # truncate negative values of Y    \n",
    "        np.clip(Y, a_min=0, a_max=None, out=Y)\n",
    "\n",
    "        return X, Y    "
   ]
  },
  {
   "cell_type": "code",
   "execution_count": 8,
   "metadata": {
    "collapsed": true
   },
   "outputs": [],
   "source": [
    "def gen_tobit_dataset(n_points, n_features, train_test_split=4):\n",
    "    \"\"\"\n",
    "    Generate dataset for Tobit regression model and split it into training and test portions\n",
    "    \n",
    "    \"\"\"\n",
    "    # n_features + 1 weights (one for a constant feature)\n",
    "    data_weights = np.array([-0.25, 0.5, 0.2, .1]) \n",
    "    noise_std = 0.1\n",
    "    \n",
    "    # Generate dataset\n",
    "    X, Y = Tobit_Regression.generate_data(n_points=n_points,\n",
    "                                           n_features=n_features,\n",
    "                                           weights=data_weights,\n",
    "                                           noise_std=noise_std)\n",
    "    \n",
    "    # split to the train and test set\n",
    "    # 1/4 of the data is used for a test\n",
    "    \n",
    "    n_test = int(n_points / train_test_split)\n",
    "    n_train = n_points - n_test\n",
    "    \n",
    "    X_train = X[:n_train,:]\n",
    "    Y_train = Y[:n_train].reshape((-1,1))\n",
    "\n",
    "    X_test = X[n_train:,:]\n",
    "    Y_test = Y[n_train:].reshape((-1,1))\n",
    "    return X_train, Y_train, X_test, Y_test\n",
    "\n",
    "def train_model(n_features, learning_rate, n_steps=1000):\n",
    "    \"\"\"\n",
    "    Train Tobit Regression model\n",
    "    \n",
    "    Return:\n",
    "        a tuple of:\n",
    "        - Model fitted weights, np.array\n",
    "        - loss, double \n",
    "        - fitted noise std error, double\n",
    "        - L1 error, double\n",
    "    \"\"\"\n",
    "    # create an instance of the Tobit Regression class  \n",
    "    model = Tobit_Regression(n_features=n_features, learning_rate=learning_rate)\n",
    "\n",
    "    # train the model\n",
    "    with tf.Session() as sess:\n",
    "        sess.run(tf.global_variables_initializer())\n",
    "        \n",
    "        for stepIx in range(0, n_steps):\n",
    "#             (_, loss), weights, term1, term2 = sess.run(\n",
    "#                 (model.train_step, model.weights, model.term1, model.term2), feed_dict={       \n",
    "            (_, loss), weights = sess.run((model.train_step, model.weights), feed_dict={                    \n",
    "                model.input: X_train,\n",
    "                model.target: Y_train\n",
    "                })\n",
    "            print_step = False\n",
    "            if ((stepIx < 1000) and (stepIx % 100 == 0)) or \\\n",
    "               ((stepIx <  100) and (stepIx %  10 == 0)) or \\\n",
    "               ( stepIx <   10                         ):\n",
    "                print_step = True\n",
    "#             if (stepIx < 10):\n",
    "#                 print_step = True\n",
    "#             elif ((stepIx >= 10) and (stepIx % 10 == 0)):\n",
    "#                 print_step = True\n",
    "                \n",
    "            if print_step:\n",
    "                print(\"\\nstepIx:%4d| loss:%f\" % (stepIx, \n",
    "                                    loss\n",
    "                    ))\n",
    "#                 print(\"\\nstepIx:%4d| loss:%f| mean(term1+term2):%f| mean(term1): %f| mean(term2): %f\" % (stepIx, \n",
    "#                                     loss, np.mean(term1+term2), np.mean(term1), np.mean(term2)\n",
    "#                     ))\n",
    "#                 print(\"  term1[self.target >  0.0][:5]:\"); print(term1[np.ix_([0, 11, 17, 23, 25])].squeeze())\n",
    "#                 print(\"  term2[self.target >  0.0][:5]:\"); print(term2[np.ix_([0, 11, 17, 23, 25])].squeeze())\n",
    "#                 print(\"  term1[self.target <= 0.0][:5]:\"); print(term1[np.ix_([1, 2, 3, 4, 5])].squeeze())\n",
    "#                 print(\"  term2[self.target <= 0.0][:5]:\"); print(term2[np.ix_([1, 2, 3, 4, 5])].squeeze())\n",
    "#                 print(\"  weights:\" % ()); print(weights.squeeze())\n",
    "#                 print(\"  term1.shape:%s\" % (str(term1.shape)))\n",
    "#                 print(\"  term1  :\" % ()); print(term1.squeeze())\n",
    "#                 print(\"  term2  :\" % ()); print(term2.squeeze())                \n",
    "    \n",
    "        # predictions for the test set\n",
    "        # std_model = weights[-1]**2     \n",
    "        output, std_model = sess.run([model.output,model.sigma], \n",
    "                                     feed_dict={model.input: X_test})\n",
    "        \n",
    "        output_L1_error = sess.run(model.output_L1_error,\n",
    "                                   feed_dict={model.input: X_test,\n",
    "                                   model.target: Y_test})\n",
    "        sess.close()\n",
    "    return weights[:-1], loss, std_model[0], output_L1_error, output\n",
    "\n",
    "def plot_results():        \n",
    "    # Plot a projection of test prediction on the first two predictors\n",
    "    fig = plt.figure()\n",
    "    ax = fig.add_subplot(111, projection='3d')\n",
    "    ax.scatter(X_test[:,1], X_test[:,2], Y_test, s=1, c=\"#000000\")\n",
    "    ax.scatter(X_test[:,1], X_test[:,2], output.reshape([-1,1]), s=1, c=\"#FF0000\")\n",
    "    plt.xlabel('X_1')\n",
    "    plt.ylabel('X_2')\n",
    "    plt.show()"
   ]
  },
  {
   "cell_type": "code",
   "execution_count": 7,
   "metadata": {
    "collapsed": true
   },
   "outputs": [],
   "source": [
    "### BBI Grading Debugging ###\n",
    "# n_points = 5000\n",
    "# n_features = 3\n",
    "# learning_rate = 0.05\n",
    "# n_steps = 1000\n",
    "\n",
    "# X_train, Y_train, X_test, Y_test = gen_tobit_dataset(n_points, n_features)\n",
    "# plot_results()\n",
    "# reset_graph()\n",
    "# weights, loss, std_model, error_L1, output = train_model(n_features, learning_rate, n_steps)\n",
    "\n",
    "# part_1=list(weights.squeeze())\n",
    "# try:\n",
    "#     part1 = \" \".join(map(repr, part_1))\n",
    "# except TypeError:\n",
    "#     part1 = repr(part_1)\n",
    "# submissions[all_parts[0]]=part1\n",
    "# grading.submit(COURSERA_EMAIL, COURSERA_TOKEN, assignment_key, all_parts[0],all_parts,submissions)\n",
    "# weights.squeeze()"
   ]
  },
  {
   "cell_type": "code",
   "execution_count": 8,
   "metadata": {
    "collapsed": true
   },
   "outputs": [],
   "source": [
    "# print(\"X_train:\")\n",
    "# print(\"  .shape: %s\" % (str(X_train.shape)))\n",
    "\n",
    "# XY_train = np.hstack((X_train, Y_train))\n",
    "# print(\"XY_train.shape: %s\" % (str(XY_train.shape)))\n",
    "# print(\"XY_train examples:\")\n",
    "# print(XY_train[:5])\n",
    "\n",
    "# Y1_train = (Y_train > 0.0)\n",
    "# print(\"np.sum(Y1_train): %f\" % (np.sum(Y1_train)))\n",
    "# print(np.flatnonzero(Y_train)[:5])\n",
    "# print(\"Y1_train[:20]\"); print(Y1_train[:20])\n",
    "# XY1_train = XY_train[Y_train > 0]\n",
    "# print(\"XY1_train examples:\"); print(XY_train[np.flatnonzero(Y_train), :])\n",
    "# print(np.hstack((X_train, Y_train))[Y_train > 0][:5])\n",
    "# print(np.hstack((X_train, Y_train))[Y_train > 0][:5])"
   ]
  },
  {
   "cell_type": "code",
   "execution_count": 9,
   "metadata": {
    "collapsed": true
   },
   "outputs": [],
   "source": [
    "# reset_graph()\n",
    "# learning_rate = 0.05\n",
    "# weights, loss, std_model, error_L1, output = train_model(n_features, learning_rate, n_steps)"
   ]
  },
  {
   "cell_type": "code",
   "execution_count": 10,
   "metadata": {
    "collapsed": true
   },
   "outputs": [],
   "source": [
    "# reset_graph()\n",
    "# learning_rate = 0.01\n",
    "# weights, loss, std_model, error_L1, output = train_model(n_features, learning_rate, n_steps)"
   ]
  },
  {
   "cell_type": "code",
   "execution_count": 11,
   "metadata": {
    "collapsed": true
   },
   "outputs": [],
   "source": [
    "# reset_graph()\n",
    "# learning_rate = 0.10\n",
    "# weights, loss, std_model, error_L1, output = train_model(n_features, learning_rate, n_steps)"
   ]
  },
  {
   "cell_type": "code",
   "execution_count": 11,
   "metadata": {},
   "outputs": [
    {
     "name": "stdout",
     "output_type": "stream",
     "text": [
      "\n",
      "stepIx:   0| loss:-8.842211\n",
      "\n",
      "stepIx:   1| loss:-8.318393\n",
      "\n",
      "stepIx:   2| loss:-7.714983\n",
      "\n",
      "stepIx:   3| loss:-7.050903\n",
      "\n",
      "stepIx:   4| loss:-6.344158\n",
      "\n",
      "stepIx:   5| loss:-5.609383\n",
      "\n",
      "stepIx:   6| loss:-4.869526\n",
      "\n",
      "stepIx:   7| loss:-4.149171\n",
      "\n",
      "stepIx:   8| loss:-3.484373\n",
      "\n",
      "stepIx:   9| loss:-2.912947\n",
      "\n",
      "stepIx:  10| loss:-2.463206\n",
      "\n",
      "stepIx:  20| loss:-1.194293\n",
      "\n",
      "stepIx:  30| loss:-1.035359\n",
      "\n",
      "stepIx:  40| loss:-0.971992\n",
      "\n",
      "stepIx:  50| loss:-0.923419\n",
      "\n",
      "stepIx:  60| loss:-0.875775\n",
      "\n",
      "stepIx:  70| loss:-0.825529\n",
      "\n",
      "stepIx:  80| loss:-0.771663\n",
      "\n",
      "stepIx:  90| loss:-0.714185\n",
      "\n",
      "stepIx: 100| loss:-0.653841\n",
      "\n",
      "stepIx: 200| loss:-0.025679\n",
      "\n",
      "stepIx: 300| loss:0.134133\n",
      "\n",
      "stepIx: 400| loss:0.134144\n",
      "\n",
      "stepIx: 500| loss:0.134144\n",
      "\n",
      "stepIx: 600| loss:0.134144\n",
      "\n",
      "stepIx: 700| loss:0.134144\n",
      "\n",
      "stepIx: 800| loss:0.134140\n",
      "\n",
      "stepIx: 900| loss:0.134144\n",
      "Submission successful, please check on the coursera grader page for the status\n"
     ]
    },
    {
     "data": {
      "text/plain": [
       "array([-0.24247026,  0.49173024,  0.19827977,  0.09300683], dtype=float32)"
      ]
     },
     "execution_count": 11,
     "metadata": {},
     "output_type": "execute_result"
    }
   ],
   "source": [
    "### GRADED PART (DO NOT EDIT) ###\n",
    "n_points = 5000\n",
    "n_features = 3\n",
    "learning_rate = 0.05\n",
    "n_steps = 1000\n",
    "\n",
    "X_train, Y_train, X_test, Y_test = gen_tobit_dataset(n_points, n_features)\n",
    "reset_graph()\n",
    "weights, loss, std_model, error_L1, output = train_model(n_features, learning_rate, n_steps)\n",
    "\n",
    "part_1=list(weights.squeeze())\n",
    "try:\n",
    "    part1 = \" \".join(map(repr, part_1))\n",
    "except TypeError:\n",
    "    part1 = repr(part_1)\n",
    "submissions[all_parts[0]]=part1\n",
    "grading.submit(COURSERA_EMAIL, COURSERA_TOKEN, assignment_key, all_parts[0],all_parts,submissions)\n",
    "weights.squeeze()\n",
    "### GRADED PART (DO NOT EDIT) ###"
   ]
  },
  {
   "cell_type": "code",
   "execution_count": 12,
   "metadata": {},
   "outputs": [
    {
     "name": "stdout",
     "output_type": "stream",
     "text": [
      "Submission successful, please check on the coursera grader page for the status\n"
     ]
    },
    {
     "data": {
      "text/plain": [
       "[0.13414387, 0.098345175, 0.019833893]"
      ]
     },
     "execution_count": 12,
     "metadata": {},
     "output_type": "execute_result"
    }
   ],
   "source": [
    "### GRADED PART (DO NOT EDIT) ###\n",
    "part_2=[loss, std_model, error_L1]\n",
    "try:\n",
    "    part2 = \" \".join(map(repr, part_2))\n",
    "except TypeError:\n",
    "    part2 = repr(part_2)  \n",
    "    \n",
    "submissions[all_parts[1]]=part2\n",
    "grading.submit(COURSERA_EMAIL, COURSERA_TOKEN, assignment_key, all_parts[:2],all_parts,submissions)\n",
    "[loss, std_model, error_L1]\n",
    "### GRADED PART (DO NOT EDIT) ###"
   ]
  },
  {
   "cell_type": "code",
   "execution_count": 13,
   "metadata": {},
   "outputs": [
    {
     "data": {
      "image/png": "[encoded data removed]",
      "text/plain": [
       "<matplotlib.figure.Figure at 0x7f835b568ef0>"
      ]
     },
     "metadata": {},
     "output_type": "display_data"
    }
   ],
   "source": [
    "plot_results()"
   ]
  },
  {
   "cell_type": "markdown",
   "metadata": {},
   "source": [
    "### Fitting Linear regression and Neural Network to Non-linear data"
   ]
  },
  {
   "cell_type": "code",
   "execution_count": 14,
   "metadata": {},
   "outputs": [
    {
     "data": {
      "text/plain": [
       "((7500, 3), (7500, 1))"
      ]
     },
     "execution_count": 14,
     "metadata": {},
     "output_type": "execute_result"
    }
   ],
   "source": [
    "def generate_data(n_points=10000, n_features=3, use_nonlinear=True, \n",
    "                    noise_std=0.1, train_test_split = 4):\n",
    "    \"\"\"\n",
    "    Arguments:\n",
    "    n_points - number of data points to generate\n",
    "    n_features - a positive integer - number of features\n",
    "    use_nonlinear - if True, generate non-linear data\n",
    "    train_test_split - an integer - what portion of data to use for testing\n",
    "    \n",
    "    Return:\n",
    "    X_train, Y_train, X_test, Y_test, n_train, n_features\n",
    "    \"\"\"\n",
    "    # Linear data or non-linear data?\n",
    "    if use_nonlinear:\n",
    "        weights = np.array([[1.0, 0.5, 0.2],[0.5, 0.3, 0.15]], dtype=np.float32)\n",
    "    else:\n",
    "        weights = np.array([1.0, 0.5, 0.2], dtype=np.float32)\n",
    "    \n",
    "    np.random.seed(42)\n",
    "    bias = np.ones(n_points).reshape((-1,1))\n",
    "    low = - np.ones((n_points,n_features), dtype=np.float32)\n",
    "    high = np.ones((n_points,n_features), dtype=np.float32)\n",
    "    \n",
    "    X = np.random.uniform(low=low, high=high)\n",
    "    noise = np.random.normal(size=(n_points, 1))\n",
    "    noise_std = 0.1\n",
    "    \n",
    "    if use_nonlinear:\n",
    "        Y = (weights[0,0] * bias + np.dot(X, weights[0, :]).reshape((-1,1)) + \n",
    "             np.dot(X*X, weights[1, :]).reshape([-1,1]) +\n",
    "             noise_std * noise)\n",
    "    else:\n",
    "        Y = (weights[0] * bias + np.dot(X, weights[:]).reshape((-1,1)) + \n",
    "             noise_std * noise)\n",
    "    \n",
    "    n_test = int(n_points/train_test_split)\n",
    "    n_train = n_points - n_test\n",
    "    \n",
    "    X_train = X[:n_train,:]\n",
    "    Y_train = Y[:n_train].reshape((-1,1))\n",
    "\n",
    "    X_test = X[n_train:,:]\n",
    "    Y_test = Y[n_train:].reshape((-1,1))\n",
    "    \n",
    "    return X_train, Y_train, X_test, Y_test, n_train, n_features\n",
    "\n",
    "X_train, Y_train, X_test, Y_test, n_train, n_features = generate_data(use_nonlinear=False)\n",
    "X_train.shape, Y_train.shape"
   ]
  },
  {
   "cell_type": "code",
   "execution_count": 15,
   "metadata": {},
   "outputs": [
    {
     "data": {
      "text/plain": [
       "((7500, 3), (7500, 1))"
      ]
     },
     "execution_count": 15,
     "metadata": {},
     "output_type": "execute_result"
    }
   ],
   "source": [
    "np.random.seed(42)\n",
    "X_train, Y_train, X_test, Y_test, n_train, n_features = generate_data(use_nonlinear=True)\n",
    "X_train.shape, Y_train.shape"
   ]
  },
  {
   "cell_type": "markdown",
   "metadata": {},
   "source": [
    "**Instructions**\n",
    "Implement sklearn_lin_regress() function which returns a tuple of\n",
    "\n",
    "- coefficients of linear regression\n",
    "- an instance of LinearRegression class trained to X_train, Y_train\n"
   ]
  },
  {
   "cell_type": "code",
   "execution_count": 16,
   "metadata": {
    "collapsed": true
   },
   "outputs": [],
   "source": [
    "# GRADED FUNCTION: sklearn_lin_regress\n",
    "def sklearn_lin_regress(X_train, Y_train):\n",
    "    \"\"\"\n",
    "    Arguments:\n",
    "    X_train  - np.array of size (n by k) where n is number of observations \n",
    "                of independent variables and k is number of variables\n",
    "    Y_train - np.array of size (n by 1) where n is the number of observations of dependend variable\n",
    "    \n",
    "    Return: a tuple of \n",
    "      - np.array of size (k+1 by 1) of regression coefficients\n",
    "      - an instance of LinearRegression\n",
    "    \"\"\"\n",
    "    from sklearn.linear_model import LinearRegression\n",
    "    lr_model = None\n",
    "    theta_sklearn = np.array([], dtype=np.float32)\n",
    "    ### START CODE HERE ### (≈ 2-3 lines of code)\n",
    "\n",
    "    lr_model = LinearRegression()\n",
    "    lr_model.fit(X_train, Y_train)\n",
    "    print(\"sklearn_lin_regress: intercept_.shape:%s| coef_.shape:%s\" % (str(lr_model.intercept_.shape), \n",
    "                                                                        str(lr_model.coef_.shape)))\n",
    "    theta_sklearn = np.concatenate((lr_model.intercept_.reshape((-1, 1)), lr_model.coef_.reshape((-1, 1))))\n",
    "    \n",
    "    ### END CODE HERE ###\n",
    "    return theta_sklearn, lr_model"
   ]
  },
  {
   "cell_type": "code",
   "execution_count": 17,
   "metadata": {},
   "outputs": [
    {
     "name": "stdout",
     "output_type": "stream",
     "text": [
      "sklearn_lin_regress: intercept_.shape:(1,)| coef_.shape:(1, 3)\n",
      "Submission successful, please check on the coursera grader page for the status\n"
     ]
    },
    {
     "data": {
      "text/plain": [
       "array([ 1.31552735,  1.00221739,  0.50122384,  0.19928303])"
      ]
     },
     "execution_count": 17,
     "metadata": {},
     "output_type": "execute_result"
    }
   ],
   "source": [
    "# you can make submission with answers so far to check yourself at this stage\n",
    "### GRADED PART (DO NOT EDIT) ###\n",
    "theta_sklearn, lr_model = sklearn_lin_regress(X_train, Y_train)\n",
    "\n",
    "part_3 = list(theta_sklearn.squeeze())\n",
    "try:\n",
    "    part3 = \" \".join(map(repr, part_3))\n",
    "except TypeError:\n",
    "    part3 = repr(part_3)\n",
    "    \n",
    "submissions[all_parts[2]]=part3\n",
    "grading.submit(COURSERA_EMAIL, COURSERA_TOKEN, assignment_key, all_parts[:3],all_parts,submissions)\n",
    "\n",
    "theta_sklearn.squeeze()\n",
    "### GRADED PART (DO NOT EDIT) ###"
   ]
  },
  {
   "cell_type": "markdown",
   "metadata": {},
   "source": [
    "LinearRegression.score() computes $R^2$ coefficient. The coefficient $R^2$ is defined as $(1 - \\frac{u}{v})$, where u is the residual sum of squares $\\sum (y\\_true - y\\_pred)^2$ and v is the total sum of squares $\\sum (y\\_true - \\bar{y\\_true})^2$"
   ]
  },
  {
   "cell_type": "code",
   "execution_count": 18,
   "metadata": {},
   "outputs": [
    {
     "name": "stdout",
     "output_type": "stream",
     "text": [
      "Submission successful, please check on the coursera grader page for the status\n"
     ]
    },
    {
     "data": {
      "text/plain": [
       "0.9065452090081394"
      ]
     },
     "execution_count": 18,
     "metadata": {},
     "output_type": "execute_result"
    }
   ],
   "source": [
    "# you can make submission with answers so far to check yourself at this stage\n",
    "### GRADED PART (DO NOT EDIT) ###\n",
    "# calculate Linear Regression score\n",
    "model_score = 0.\n",
    "if lr_model is not None:\n",
    "    model_score = lr_model.score(X_test, Y_test)\n",
    "part4=str(model_score)\n",
    "submissions[all_parts[3]]=part4\n",
    "grading.submit(COURSERA_EMAIL, COURSERA_TOKEN, assignment_key, all_parts[:4],all_parts,submissions)\n",
    "model_score\n",
    "### GRADED PART (DO NOT EDIT) ###"
   ]
  },
  {
   "cell_type": "markdown",
   "metadata": {},
   "source": [
    "### Neural Network with Tensorflow \n",
    "\n",
    "**Instructions**\n",
    "\n",
    "Construct two-layer Neural Network utilizing neuron_layer() function. The number of nodes in two hidden layers are defined by n_hidden1 and n_hidden2, respectively. Use Gradient Descent Optimizer.\n",
    "\n",
    "The train the network using X_train / y_train and compute accuracy of the prediction using X_test data set."
   ]
  },
  {
   "cell_type": "code",
   "execution_count": 19,
   "metadata": {
    "collapsed": true
   },
   "outputs": [],
   "source": [
    "def random_batch(X_train, y_train, batch_size):\n",
    "    np.random.seed(42)\n",
    "    rnd_indices = np.random.randint(0, len(X_train), batch_size)\n",
    "    X_batch = X_train[rnd_indices]\n",
    "    y_batch = y_train[rnd_indices]\n",
    "    return X_batch, y_batch\n",
    "    \n",
    "def neuron_layer(X, n_neurons, name, activation_fn=None):\n",
    "    with tf.name_scope(name):\n",
    "        n_inputs = int(X.get_shape()[1])\n",
    "        stddev = 2 / np.sqrt(n_inputs)\n",
    "        init = tf.truncated_normal((n_inputs, n_neurons), stddev=stddev)\n",
    "        W = tf.Variable(init, name=\"kernel\")\n",
    "        b = tf.Variable(tf.zeros([n_neurons]), name=\"bias\")\n",
    "        Z = tf.matmul(X, W) + b\n",
    "        if activation_fn is not None:\n",
    "            return activation_fn(Z)\n",
    "        else:\n",
    "            return Z"
   ]
  },
  {
   "cell_type": "code",
   "execution_count": 27,
   "metadata": {},
   "outputs": [],
   "source": [
    "n_hidden1 = 100\n",
    "n_hidden2 = 120\n",
    "n_outputs = 1 # single value prediction\n",
    "n_inputs = X_test.shape[1]\n",
    "\n",
    "reset_graph() # This shd be in model.fit ?\n",
    "# Next 2 lines shd be in model.__init__ ?\n",
    "X = tf.placeholder(tf.float32, shape=(None, n_inputs), name=\"X\")\n",
    "y = tf.placeholder(tf.float32, shape=(None), name=\"y\")\n",
    "\n",
    "### START CODE HERE ### (≈ 10-15 lines of code)\n",
    "\n",
    "# create an instance of the Tobit Regression class\n",
    "class RegressorNNTf:\n",
    "    \n",
    "    def __init__(self, X, y, n_hidden1, n_hidden2, n_outputs, learning_rate = 0.01):\n",
    "        \n",
    "        self.X = X\n",
    "        self.y = y\n",
    "        \n",
    "        out_L1 = neuron_layer(self.X, n_hidden1, 'Layer1', activation_fn = tf.tanh)\n",
    "        out_L2 = neuron_layer(out_L1, n_hidden2, 'Layer2', activation_fn = tf.nn.relu)\n",
    "        self.output = neuron_layer(out_L2, n_outputs,  'LayerF', activation_fn = None)\n",
    "        \n",
    "        self.loss_mse = tf.reduce_mean(tf.square(self.output - self.y))\n",
    "        self.train_step = (tf.train.GradientDescentOptimizer(learning_rate).minimize(self.loss_mse), -self.loss_mse)\n",
    "\n",
    "model = RegressorNNTf(X, y, n_hidden1, n_hidden2, n_outputs)\n",
    "\n",
    "### END CODE HERE ###\n",
    "\n",
    "init = tf.global_variables_initializer()"
   ]
  },
  {
   "cell_type": "code",
   "execution_count": 37,
   "metadata": {},
   "outputs": [
    {
     "name": "stdout",
     "output_type": "stream",
     "text": [
      "\n",
      "epochIx:   0| loss:-0.020913\n",
      "\n",
      "epochIx:   1| loss:-0.012600\n",
      "\n",
      "epochIx:   2| loss:-0.008605\n",
      "\n",
      "epochIx:   3| loss:-0.006256\n",
      "\n",
      "epochIx:   4| loss:-0.004783\n",
      "\n",
      "epochIx:   5| loss:-0.003891\n",
      "\n",
      "epochIx:   6| loss:-0.003240\n",
      "\n",
      "epochIx:   7| loss:-0.002711\n",
      "\n",
      "epochIx:   8| loss:-0.002302\n",
      "\n",
      "epochIx:   9| loss:-0.002019\n",
      "\n",
      "epochIx:  10| loss:-0.001800\n",
      "\n",
      "epochIx:  20| loss:-0.000812\n",
      "\n",
      "epochIx:  30| loss:-0.000515\n",
      "\n",
      "epochIx:  40| loss:-0.000377\n",
      "\n",
      "epochIx:  50| loss:-0.000313\n",
      "\n",
      "epochIx:  60| loss:-0.000274\n",
      "\n",
      "epochIx:  70| loss:-0.000245\n",
      "\n",
      "epochIx:  80| loss:-0.000222\n",
      "\n",
      "epochIx:  90| loss:-0.000202\n",
      "\n",
      "epochIx: 100| loss:-0.000184\n",
      "\n",
      "epochIx: 199| loss:-0.000080\n",
      "\n",
      "acc_test:0.780868\n"
     ]
    }
   ],
   "source": [
    "learning_rate = 0.01\n",
    "n_epochs = 200\n",
    "batch_size = 60\n",
    "num_rec = X_train.shape[0]\n",
    "n_batches = int(np.ceil(num_rec / batch_size))\n",
    "acc_test = 0. #  assign the result of accuracy testing to this variable\n",
    "\n",
    "### START CODE HERE ### (≈ 9-10 lines of code)\n",
    "with tf.Session() as sess:\n",
    "    sess.run(init)\n",
    "    \n",
    "    for epochIx in range(0, n_epochs):\n",
    "        for miniBatchIx in range(0, n_batches):\n",
    "            X_batch, y_batch = random_batch(X_train, Y_train, batch_size)\n",
    "            (_, loss) = sess.run((model.train_step), feed_dict = {\n",
    "                model.X: X_batch,\n",
    "                model.y: y_batch\n",
    "            })\n",
    "            \n",
    "        print_epoch = False\n",
    "        if (epochIx == n_epochs - 1) or \\\n",
    "           ((epochIx < 1000) and (epochIx % 100 == 0)) or \\\n",
    "           ((epochIx <  100) and (epochIx %  10 == 0)) or \\\n",
    "           ( epochIx <   10                         ):\n",
    "            print_epoch = True\n",
    "                \n",
    "        if print_epoch:\n",
    "            print(\"\\nepochIx:%4d| loss:%f\" % (epochIx, loss\n",
    "#                                     , np.mean(term1+term2), np.mean(term1), np.mean(term2)\n",
    "                ))\n",
    "\n",
    "    output_test = sess.run([model.output], feed_dict = {\n",
    "        model.X: X_test,\n",
    "        model.y: Y_test\n",
    "    })\n",
    "    \n",
    "#     acc_test = np.sum(np.isclose(output_test, Y_test)) * 1.0 / Y_test.shape[0]\n",
    "    acc_test = 1.0 - np.sqrt(np.mean(np.square(output_test - Y_test)))\n",
    "    \n",
    "    print(\"\\nacc_test:%f\" % (acc_test))\n",
    "    \n",
    "### END CODE HERE ###"
   ]
  },
  {
   "cell_type": "code",
   "execution_count": 36,
   "metadata": {},
   "outputs": [
    {
     "name": "stdout",
     "output_type": "stream",
     "text": [
      "Submission successful, please check on the coursera grader page for the status\n"
     ]
    },
    {
     "data": {
      "text/plain": [
       "0.21913228554995798"
      ]
     },
     "execution_count": 36,
     "metadata": {},
     "output_type": "execute_result"
    }
   ],
   "source": [
    "### GRADED PART (DO NOT EDIT) ###\n",
    "part5=str(acc_test)\n",
    "submissions[all_parts[4]]=part5\n",
    "grading.submit(COURSERA_EMAIL, COURSERA_TOKEN, assignment_key, all_parts[:5],all_parts,submissions)\n",
    "acc_test\n",
    "### GRADED PART (DO NOT EDIT) ###"
   ]
  },
  {
   "cell_type": "code",
   "execution_count": null,
   "metadata": {
    "collapsed": true
   },
   "outputs": [],
   "source": []
  }
 ],
 "metadata": {
  "coursera": {
   "course_slug": "guided-tour-machine-learning-finance"
  },
  "kernelspec": {
   "display_name": "Python 3",
   "language": "python",
   "name": "python3"
  },
  "language_info": {
   "codemirror_mode": {
    "name": "ipython",
    "version": 3
   },
   "file_extension": ".py",
   "mimetype": "text/x-python",
   "name": "python",
   "nbconvert_exporter": "python",
   "pygments_lexer": "ipython3",
   "version": "3.6.0"
  }
 },
 "nbformat": 4,
 "nbformat_minor": 2
}
